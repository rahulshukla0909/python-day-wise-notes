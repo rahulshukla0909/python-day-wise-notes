{
 "cells": [
  {
   "cell_type": "code",
   "execution_count": 3,
   "id": "eedce683",
   "metadata": {},
   "outputs": [
    {
     "name": "stdout",
     "output_type": "stream",
     "text": [
      "12\n",
      "19\n",
      "[14, 15, 17, 18]\n"
     ]
    }
   ],
   "source": [
    "li = [12,13,14,15,17,18,19]\n",
    "#access element in list\n",
    "#List items are indexed and you can access them by referring to the index number:\n",
    "print(li[0])\n",
    "print(li[-1])#negative indexing\n",
    "print(li[2:6])#Range of Indexes"
   ]
  },
  {
   "cell_type": "code",
   "execution_count": 2,
   "id": "34dd30e1",
   "metadata": {},
   "outputs": [
    {
     "name": "stdout",
     "output_type": "stream",
     "text": [
      "['orange', 'kiwi', 'melon']\n"
     ]
    }
   ],
   "source": [
    "thislist = [\"apple\", \"banana\", \"cherry\", \"orange\", \"kiwi\", \"melon\", \"mango\"]\n",
    "print(thislist[-4:-1])"
   ]
  },
  {
   "cell_type": "code",
   "execution_count": 8,
   "id": "cac1f9eb",
   "metadata": {},
   "outputs": [
    {
     "name": "stdout",
     "output_type": "stream",
     "text": [
      "[12, 45, 14, 99, 18, 19]\n",
      "[12, 45, 14, 99]\n"
     ]
    }
   ],
   "source": [
    "#changing list item\n",
    "#To change the value of a specific item, refer to the index number:\n",
    "li[1]=45\n",
    "print(li)\n",
    "li[3:6] = [99]\n",
    "print(li)"
   ]
  },
  {
   "cell_type": "code",
   "execution_count": 7,
   "id": "942fa158",
   "metadata": {},
   "outputs": [
    {
     "name": "stdout",
     "output_type": "stream",
     "text": [
      "['apple', 'watermelon']\n"
     ]
    }
   ],
   "source": [
    "thislist = [\"apple\", \"banana\", \"cherry\"]\n",
    "thislist[1:3] = [\"watermelon\"]\n",
    "print(thislist)"
   ]
  },
  {
   "cell_type": "code",
   "execution_count": 9,
   "id": "850d60a1",
   "metadata": {},
   "outputs": [],
   "source": [
    "#remove item from list\n",
    "#The remove() method removes the specified item.\n",
    "li.remove(12)"
   ]
  },
  {
   "cell_type": "code",
   "execution_count": 10,
   "id": "1193c051",
   "metadata": {},
   "outputs": [
    {
     "data": {
      "text/plain": [
       "[45, 14, 99]"
      ]
     },
     "execution_count": 10,
     "metadata": {},
     "output_type": "execute_result"
    }
   ],
   "source": [
    "li"
   ]
  },
  {
   "cell_type": "code",
   "execution_count": 11,
   "id": "5c08da90",
   "metadata": {},
   "outputs": [
    {
     "data": {
      "text/plain": [
       "14"
      ]
     },
     "execution_count": 11,
     "metadata": {},
     "output_type": "execute_result"
    }
   ],
   "source": [
    "li.pop()#remove the last item\n",
    "li.pop(1)#remove the index number item"
   ]
  },
  {
   "cell_type": "code",
   "execution_count": 12,
   "id": "be810a87",
   "metadata": {},
   "outputs": [
    {
     "data": {
      "text/plain": [
       "[45]"
      ]
     },
     "execution_count": 12,
     "metadata": {},
     "output_type": "execute_result"
    }
   ],
   "source": [
    "li"
   ]
  },
  {
   "cell_type": "code",
   "execution_count": 16,
   "id": "13ea65b4",
   "metadata": {},
   "outputs": [],
   "source": [
    "#add item in list\n",
    "\n",
    "li.append(49)#single item\n",
    "li\n",
    "li.append([1,2,3])#alist"
   ]
  },
  {
   "cell_type": "code",
   "execution_count": 17,
   "id": "60cb1df1",
   "metadata": {},
   "outputs": [
    {
     "name": "stdout",
     "output_type": "stream",
     "text": [
      "[45, 49, 49, 49, [1, 2, 3]]\n"
     ]
    }
   ],
   "source": [
    "print(li)"
   ]
  },
  {
   "cell_type": "code",
   "execution_count": 18,
   "id": "7c3b6900",
   "metadata": {},
   "outputs": [],
   "source": [
    "li.extend([4,5,6])#multiple item"
   ]
  },
  {
   "cell_type": "code",
   "execution_count": 19,
   "id": "ab9bf602",
   "metadata": {},
   "outputs": [
    {
     "data": {
      "text/plain": [
       "[45, 49, 49, 49, [1, 2, 3], 4, 5, 6]"
      ]
     },
     "execution_count": 19,
     "metadata": {},
     "output_type": "execute_result"
    }
   ],
   "source": [
    "li"
   ]
  },
  {
   "cell_type": "code",
   "execution_count": 20,
   "id": "022136f9",
   "metadata": {},
   "outputs": [],
   "source": [
    "li.insert(0,102)#add by indexing number"
   ]
  },
  {
   "cell_type": "code",
   "execution_count": 21,
   "id": "d202b882",
   "metadata": {},
   "outputs": [
    {
     "data": {
      "text/plain": [
       "[102, 45, 49, 49, 49, [1, 2, 3], 4, 5, 6]"
      ]
     },
     "execution_count": 21,
     "metadata": {},
     "output_type": "execute_result"
    }
   ],
   "source": [
    "li"
   ]
  },
  {
   "cell_type": "code",
   "execution_count": 22,
   "id": "1097b57d",
   "metadata": {},
   "outputs": [
    {
     "name": "stdout",
     "output_type": "stream",
     "text": [
      "102\n",
      "45\n",
      "49\n",
      "49\n",
      "49\n",
      "[1, 2, 3]\n",
      "4\n",
      "5\n",
      "6\n"
     ]
    }
   ],
   "source": [
    "#loop in the list\n",
    "for i in li:\n",
    "    print(i)"
   ]
  },
  {
   "cell_type": "code",
   "execution_count": 27,
   "id": "784964e2",
   "metadata": {},
   "outputs": [
    {
     "name": "stdout",
     "output_type": "stream",
     "text": [
      "78\n",
      "79\n",
      "80\n",
      "81\n",
      "87\n"
     ]
    }
   ],
   "source": [
    "x = [78,79,80,81,87]\n",
    "for i in range(len(x)):\n",
    "    print(x[i])"
   ]
  },
  {
   "cell_type": "code",
   "execution_count": 28,
   "id": "5657e179",
   "metadata": {},
   "outputs": [
    {
     "name": "stdout",
     "output_type": "stream",
     "text": [
      "78\n",
      "79\n",
      "80\n",
      "81\n",
      "87\n"
     ]
    }
   ],
   "source": [
    "y = 0\n",
    "while y<len(x):\n",
    "    print(x[y])\n",
    "    y = y+1\n",
    "    "
   ]
  },
  {
   "cell_type": "code",
   "execution_count": 29,
   "id": "5e0f3e25",
   "metadata": {},
   "outputs": [
    {
     "name": "stdout",
     "output_type": "stream",
     "text": [
      "['apple', 'banana', 'mango']\n"
     ]
    }
   ],
   "source": [
    "# List Comprehension\n",
    "# List comprehension offers a shorter syntax when you want to create a new list based on the values of an existing list.\n",
    "fruits = [\"apple\", \"banana\", \"cherry\", \"kiwi\", \"mango\"]\n",
    "newlist = []\n",
    "\n",
    "for x in fruits:\n",
    "  if \"a\" in x:\n",
    "    newlist.append(x)\n",
    "\n",
    "print(newlist)"
   ]
  },
  {
   "cell_type": "code",
   "execution_count": 30,
   "id": "8f490ec1",
   "metadata": {},
   "outputs": [
    {
     "name": "stdout",
     "output_type": "stream",
     "text": [
      "[3, 14, 15, 16, 45, 68]\n"
     ]
    }
   ],
   "source": [
    "#sorting list\n",
    "a = [14,15,3,16,68,45]\n",
    "a.sort()\n",
    "print(a)"
   ]
  },
  {
   "cell_type": "code",
   "execution_count": 31,
   "id": "371591b4",
   "metadata": {},
   "outputs": [
    {
     "name": "stdout",
     "output_type": "stream",
     "text": [
      "[68, 45, 16, 15, 14, 3]\n"
     ]
    }
   ],
   "source": [
    "a.sort(reverse=True)\n",
    "print(a)"
   ]
  },
  {
   "cell_type": "code",
   "execution_count": 32,
   "id": "bfdd5a4f",
   "metadata": {},
   "outputs": [
    {
     "name": "stdout",
     "output_type": "stream",
     "text": [
      "[68, 45, 16, 15, 14, 3]\n"
     ]
    }
   ],
   "source": [
    "#Copy Lists\n",
    "copy = a.copy()#shallow copy\n",
    "print(copy)"
   ]
  },
  {
   "cell_type": "code",
   "execution_count": 33,
   "id": "e44ccacd",
   "metadata": {},
   "outputs": [
    {
     "name": "stdout",
     "output_type": "stream",
     "text": [
      "['a', 'b', 'c', 1, 2, 3]\n",
      "['a', 'b', 'c', 1, 2, 3]\n"
     ]
    }
   ],
   "source": [
    "# #Join Two Lists\n",
    "# There are several ways to join, or concatenate, two or more lists in Python\n",
    "list1 = [\"a\", \"b\" , \"c\"]\n",
    "list2 = [1, 2, 3]\n",
    "\n",
    "list3 = list1 + list2\n",
    "print(list3)\n",
    "\n",
    "list1 = [\"a\", \"b\" , \"c\"]\n",
    "list2 = [1, 2, 3]\n",
    "\n",
    "list1.extend(list2)\n",
    "print(list1)"
   ]
  },
  {
   "cell_type": "code",
   "execution_count": 34,
   "id": "96a1ffad",
   "metadata": {},
   "outputs": [
    {
     "name": "stdout",
     "output_type": "stream",
     "text": [
      "('apple', 'banana', 'cherry')\n"
     ]
    }
   ],
   "source": [
    "#tuple\n",
    "thistuple = (\"apple\", \"banana\", \"cherry\")\n",
    "print(thistuple)"
   ]
  },
  {
   "cell_type": "code",
   "execution_count": 36,
   "id": "d9f590d0",
   "metadata": {},
   "outputs": [
    {
     "name": "stdout",
     "output_type": "stream",
     "text": [
      "apple\n",
      "cherry\n"
     ]
    }
   ],
   "source": [
    "#access tuple \n",
    "print(thistuple[0])\n",
    "print(thistuple[-1])"
   ]
  },
  {
   "cell_type": "code",
   "execution_count": 37,
   "id": "1f8ab3e4",
   "metadata": {},
   "outputs": [
    {
     "name": "stdout",
     "output_type": "stream",
     "text": [
      "('apple', 'banana', 'cherry', 'orange')\n"
     ]
    }
   ],
   "source": [
    "thistuple = (\"apple\", \"banana\", \"cherry\", \"orange\", \"kiwi\", \"melon\", \"mango\")\n",
    "print(thistuple[:4])"
   ]
  },
  {
   "cell_type": "code",
   "execution_count": 38,
   "id": "a60e3651",
   "metadata": {},
   "outputs": [
    {
     "name": "stdout",
     "output_type": "stream",
     "text": [
      "('apple', 'kiwi', 'cherry')\n"
     ]
    }
   ],
   "source": [
    "#Once a tuple is created, you cannot change its values. Tuples are unchangeable, or immutable as it also is called.\n",
    "#Convert the tuple into a list to be able to change it:\n",
    "\n",
    "x = (\"apple\", \"banana\", \"cherry\")\n",
    "y = list(x)\n",
    "y[1] = \"kiwi\"\n",
    "x = tuple(y)\n",
    "\n",
    "print(x)"
   ]
  },
  {
   "cell_type": "code",
   "execution_count": 41,
   "id": "f4ace89b",
   "metadata": {},
   "outputs": [
    {
     "name": "stdout",
     "output_type": "stream",
     "text": [
      "('data science', 'unikaksha', 'aws', 'fsd', 'machine learning')\n"
     ]
    }
   ],
   "source": [
    "#add item in tuple\n",
    "mytuple = {\"unikaksha\",\"data science\",\"fsd\",\"aws\"}\n",
    "mytuple2  =list(mytuple)\n",
    "mytuple2.append(\"machine learning\")\n",
    "mytuple2 =tuple(mytuple2)\n",
    "print(mytuple2)"
   ]
  },
  {
   "cell_type": "code",
   "execution_count": 42,
   "id": "4d8ff23e",
   "metadata": {},
   "outputs": [
    {
     "name": "stdout",
     "output_type": "stream",
     "text": [
      "apple\n",
      "banana\n",
      "cherry\n"
     ]
    }
   ],
   "source": [
    "# Unpacking a tuple:\n",
    "\n",
    "fruits = (\"apple\", \"banana\", \"cherry\")\n",
    "\n",
    "(green, yellow, red) = fruits\n",
    "\n",
    "print(green)\n",
    "print(yellow)\n",
    "print(red)"
   ]
  },
  {
   "cell_type": "code",
   "execution_count": 43,
   "id": "3ca2fa48",
   "metadata": {},
   "outputs": [
    {
     "name": "stdout",
     "output_type": "stream",
     "text": [
      "apple\n",
      "['mango', 'papaya', 'pineapple']\n",
      "cherry\n"
     ]
    }
   ],
   "source": [
    "fruits = (\"apple\", \"mango\", \"papaya\", \"pineapple\", \"cherry\")\n",
    "\n",
    "(green, *tropic, red) = fruits\n",
    "\n",
    "print(green)\n",
    "print(tropic)\n",
    "print(red)"
   ]
  },
  {
   "cell_type": "code",
   "execution_count": 44,
   "id": "785c9688",
   "metadata": {},
   "outputs": [
    {
     "name": "stdout",
     "output_type": "stream",
     "text": [
      "('a', 'b', 'c', 1, 2, 3)\n"
     ]
    }
   ],
   "source": [
    "tuple1 = (\"a\", \"b\" , \"c\")\n",
    "tuple2 = (1, 2, 3)\n",
    "\n",
    "tuple3 = tuple1 + tuple2\n",
    "print(tuple3)"
   ]
  },
  {
   "cell_type": "code",
   "execution_count": 45,
   "id": "de5671f7",
   "metadata": {},
   "outputs": [
    {
     "name": "stdout",
     "output_type": "stream",
     "text": [
      "[(1, 'a'), (2, 'b'), (3, 'c')]\n",
      "[(1, 'a'), (2, 'b'), (3, 'c')]\n"
     ]
    }
   ],
   "source": [
    "# sorted(): Returns a new sorted list of tuples, based on a specific key.\n",
    "\n",
    "my_list = [(2, 'b'), (1, 'a'), (3, 'c')]\n",
    "new_list = sorted(my_list)\n",
    "print(new_list) # Output: [(1, 'a'), (2, 'b'), (3, 'c')]\n",
    "my_list = [(2, 'b'), (1, 'a'), (3, 'c')]\n",
    "my_list.sort()\n",
    "print(my_list) # Output: [(1, 'a'), (2, 'b'), (3, 'c')]"
   ]
  },
  {
   "cell_type": "code",
   "execution_count": 46,
   "id": "bcc23826",
   "metadata": {},
   "outputs": [
    {
     "name": "stdout",
     "output_type": "stream",
     "text": [
      "{'bhopal', 'rahul', 30, 'bca'}\n"
     ]
    }
   ],
   "source": [
    "#sets\n",
    "set1 = {\"rahul\",30,\"bca\",\"bhopal\"}\n",
    "print(set1)"
   ]
  },
  {
   "cell_type": "code",
   "execution_count": 47,
   "id": "f0b6a483",
   "metadata": {},
   "outputs": [
    {
     "name": "stdout",
     "output_type": "stream",
     "text": [
      "{'apple', 'cherry', 'orange', 'banana'}\n"
     ]
    }
   ],
   "source": [
    "thisset = {\"apple\", \"banana\", \"cherry\"}\n",
    "\n",
    "thisset.add(\"orange\")\n",
    "\n",
    "print(thisset)"
   ]
  },
  {
   "cell_type": "code",
   "execution_count": 48,
   "id": "aaa0924b",
   "metadata": {},
   "outputs": [
    {
     "name": "stdout",
     "output_type": "stream",
     "text": [
      "{'apple', 'mango', 'papaya', 'cherry', 'pineapple', 'banana'}\n"
     ]
    }
   ],
   "source": [
    "thisset = {\"apple\", \"banana\", \"cherry\"}\n",
    "tropical = {\"pineapple\", \"mango\", \"papaya\"}\n",
    "\n",
    "thisset.update(tropical)\n",
    "\n",
    "print(thisset)\n"
   ]
  },
  {
   "cell_type": "code",
   "execution_count": 49,
   "id": "649acf1f",
   "metadata": {},
   "outputs": [
    {
     "name": "stdout",
     "output_type": "stream",
     "text": [
      "{'mango', 'papaya', 'cherry', 'pineapple', 'banana'}\n",
      "{'papaya', 'cherry', 'pineapple', 'banana'}\n"
     ]
    }
   ],
   "source": [
    "#remove item from set\n",
    "thisset.remove(\"apple\")\n",
    "print(thisset)\n",
    "thisset.pop()#remove 1st item\n",
    "print(thisset)"
   ]
  },
  {
   "cell_type": "code",
   "execution_count": 51,
   "id": "0616d0e5",
   "metadata": {},
   "outputs": [
    {
     "name": "stdout",
     "output_type": "stream",
     "text": [
      "cherry\n",
      "banana\n"
     ]
    }
   ],
   "source": [
    "#loop in sets\n",
    "for i in thisset:\n",
    "    print(i)"
   ]
  },
  {
   "cell_type": "code",
   "execution_count": 52,
   "id": "02c21b56",
   "metadata": {},
   "outputs": [
    {
     "data": {
      "text/plain": [
       "{'banana', 'cherry'}"
      ]
     },
     "execution_count": 52,
     "metadata": {},
     "output_type": "execute_result"
    }
   ],
   "source": [
    "thisset"
   ]
  },
  {
   "cell_type": "code",
   "execution_count": 53,
   "id": "ed3e8a87",
   "metadata": {},
   "outputs": [
    {
     "name": "stdout",
     "output_type": "stream",
     "text": [
      "{'c', 1, 2, 3, 'a', 'b'}\n"
     ]
    }
   ],
   "source": [
    "# The union() method returns a new set with all items from both sets:\n",
    "\n",
    "set1 = {\"a\", \"b\" , \"c\"}\n",
    "set2 = {1, 2, 3}\n",
    "\n",
    "set3 = set1.union(set2)\n",
    "print(set3)"
   ]
  },
  {
   "cell_type": "code",
   "execution_count": 54,
   "id": "485566eb",
   "metadata": {},
   "outputs": [
    {
     "name": "stdout",
     "output_type": "stream",
     "text": [
      "{'python': 1991, 'c++': 1985, 'ruby': 1995, 'java': 1995, 'fortran': 1957, 'lisp': 1958}\n"
     ]
    }
   ],
   "source": [
    "#dictionary\n",
    "d = {\"python\":1991,\"c++\":1985,\"ruby\":1995,\"java\":1995,\"fortran\":1957,\"lisp\":1958}\n",
    "print(d)"
   ]
  },
  {
   "cell_type": "code",
   "execution_count": 55,
   "id": "fccc0198",
   "metadata": {},
   "outputs": [
    {
     "data": {
      "text/plain": [
       "1991"
      ]
     },
     "execution_count": 55,
     "metadata": {},
     "output_type": "execute_result"
    }
   ],
   "source": [
    "#access item\n",
    "d[\"python\"]"
   ]
  },
  {
   "cell_type": "code",
   "execution_count": 56,
   "id": "0d0127dd",
   "metadata": {},
   "outputs": [
    {
     "data": {
      "text/plain": [
       "1995"
      ]
     },
     "execution_count": 56,
     "metadata": {},
     "output_type": "execute_result"
    }
   ],
   "source": [
    "d.get(\"java\")"
   ]
  },
  {
   "cell_type": "code",
   "execution_count": 59,
   "id": "8621fa8c",
   "metadata": {},
   "outputs": [
    {
     "name": "stdout",
     "output_type": "stream",
     "text": [
      "dict_keys(['python', 'c++', 'ruby', 'java', 'fortran', 'lisp'])\n",
      "dict_values([1991, 1985, 1995, 1995, 1957, 1958])\n",
      "dict_items([('python', 1991), ('c++', 1985), ('ruby', 1995), ('java', 1995), ('fortran', 1957), ('lisp', 1958)])\n"
     ]
    }
   ],
   "source": [
    "print(d.keys())\n",
    "print(d.values())\n",
    "print(d.items())"
   ]
  },
  {
   "cell_type": "code",
   "execution_count": 60,
   "id": "2b9886bb",
   "metadata": {},
   "outputs": [
    {
     "name": "stdout",
     "output_type": "stream",
     "text": [
      "{'python': 1990, 'c++': 1985, 'ruby': 1995, 'java': 1995, 'fortran': 1957, 'lisp': 1958}\n"
     ]
    }
   ],
   "source": [
    "#You can change the value of a specific item by referring to its key name:\n",
    "d[\"python\"]=1990\n",
    "print(d)"
   ]
  },
  {
   "cell_type": "code",
   "execution_count": 61,
   "id": "116bdb83",
   "metadata": {},
   "outputs": [
    {
     "data": {
      "text/plain": [
       "{'python': 1990,\n",
       " 'c++': 1985,\n",
       " 'ruby': 1995,\n",
       " 'java': 1995,\n",
       " 'fortran': 1957,\n",
       " 'lisp': 1958,\n",
       " 'cobol': 1959}"
      ]
     },
     "execution_count": 61,
     "metadata": {},
     "output_type": "execute_result"
    }
   ],
   "source": [
    "#adding item\n",
    "d[\"cobol\"] = 1959\n",
    "d"
   ]
  },
  {
   "cell_type": "code",
   "execution_count": 62,
   "id": "78d4073a",
   "metadata": {},
   "outputs": [],
   "source": [
    "d.update({\"c\":1972})"
   ]
  },
  {
   "cell_type": "code",
   "execution_count": 63,
   "id": "7dcbee03",
   "metadata": {},
   "outputs": [
    {
     "data": {
      "text/plain": [
       "{'python': 1990,\n",
       " 'c++': 1985,\n",
       " 'ruby': 1995,\n",
       " 'java': 1995,\n",
       " 'fortran': 1957,\n",
       " 'lisp': 1958,\n",
       " 'cobol': 1959,\n",
       " 'c': 1972}"
      ]
     },
     "execution_count": 63,
     "metadata": {},
     "output_type": "execute_result"
    }
   ],
   "source": [
    "d"
   ]
  },
  {
   "cell_type": "code",
   "execution_count": 64,
   "id": "37026d4c",
   "metadata": {},
   "outputs": [
    {
     "data": {
      "text/plain": [
       "1990"
      ]
     },
     "execution_count": 64,
     "metadata": {},
     "output_type": "execute_result"
    }
   ],
   "source": [
    "#delete an item\n",
    "d.pop(\"python\")"
   ]
  },
  {
   "cell_type": "code",
   "execution_count": 65,
   "id": "aad12940",
   "metadata": {},
   "outputs": [
    {
     "data": {
      "text/plain": [
       "{'c++': 1985,\n",
       " 'ruby': 1995,\n",
       " 'java': 1995,\n",
       " 'fortran': 1957,\n",
       " 'lisp': 1958,\n",
       " 'cobol': 1959,\n",
       " 'c': 1972}"
      ]
     },
     "execution_count": 65,
     "metadata": {},
     "output_type": "execute_result"
    }
   ],
   "source": [
    "d"
   ]
  },
  {
   "cell_type": "code",
   "execution_count": 66,
   "id": "26d2bb4c",
   "metadata": {},
   "outputs": [
    {
     "data": {
      "text/plain": [
       "('c', 1972)"
      ]
     },
     "execution_count": 66,
     "metadata": {},
     "output_type": "execute_result"
    }
   ],
   "source": [
    "d.popitem()#delete the last"
   ]
  },
  {
   "cell_type": "code",
   "execution_count": 67,
   "id": "7887dc1f",
   "metadata": {},
   "outputs": [
    {
     "data": {
      "text/plain": [
       "{'c++': 1985,\n",
       " 'ruby': 1995,\n",
       " 'java': 1995,\n",
       " 'fortran': 1957,\n",
       " 'lisp': 1958,\n",
       " 'cobol': 1959}"
      ]
     },
     "execution_count": 67,
     "metadata": {},
     "output_type": "execute_result"
    }
   ],
   "source": [
    "d"
   ]
  },
  {
   "cell_type": "code",
   "execution_count": 68,
   "id": "73f73c03",
   "metadata": {},
   "outputs": [],
   "source": [
    "#clear all the dictionary\n"
   ]
  },
  {
   "cell_type": "code",
   "execution_count": 69,
   "id": "dfd9ab4c",
   "metadata": {},
   "outputs": [
    {
     "name": "stdout",
     "output_type": "stream",
     "text": [
      "1985\n",
      "1995\n",
      "1995\n",
      "1957\n",
      "1958\n",
      "1959\n",
      "c++\n",
      "ruby\n",
      "java\n",
      "fortran\n",
      "lisp\n",
      "cobol\n"
     ]
    }
   ],
   "source": [
    "for i in d.values():\n",
    "    print(i)\n",
    "for i in d.keys():\n",
    "    print(i)"
   ]
  },
  {
   "cell_type": "code",
   "execution_count": 70,
   "id": "b7edb1f4",
   "metadata": {},
   "outputs": [
    {
     "name": "stdout",
     "output_type": "stream",
     "text": [
      "c++ 1985\n",
      "ruby 1995\n",
      "java 1995\n",
      "fortran 1957\n",
      "lisp 1958\n",
      "cobol 1959\n"
     ]
    }
   ],
   "source": [
    "for x, y in d.items():\n",
    "    print(x, y)"
   ]
  },
  {
   "cell_type": "code",
   "execution_count": 71,
   "id": "18d115c7",
   "metadata": {},
   "outputs": [
    {
     "name": "stdout",
     "output_type": "stream",
     "text": [
      "{'child1': {'name': 'Emil', 'year': 2004}, 'child2': {'name': 'Tobias', 'year': 2007}, 'child3': {'name': 'Linus', 'year': 2011}}\n"
     ]
    }
   ],
   "source": [
    "# Nested Dictionaries\n",
    "# A dictionary can contain dictionaries, this is called nested dictionaries\n",
    "\n",
    "myfamily = {\n",
    "  \"child1\" : {\n",
    "    \"name\" : \"Emil\",\n",
    "    \"year\" : 2004\n",
    "  },\n",
    "  \"child2\" : {\n",
    "    \"name\" : \"Tobias\",\n",
    "    \"year\" : 2007\n",
    "  },\n",
    "  \"child3\" : {\n",
    "    \"name\" : \"Linus\",\n",
    "    \"year\" : 2011\n",
    "  }\n",
    "}\n",
    "print(myfamily)"
   ]
  },
  {
   "cell_type": "code",
   "execution_count": 72,
   "id": "94cdbc6d",
   "metadata": {},
   "outputs": [],
   "source": [
    "child1 = {\n",
    "  \"name\" : \"Emil\",\n",
    "  \"year\" : 2004\n",
    "}\n",
    "child2 = {\n",
    "  \"name\" : \"Tobias\",\n",
    "  \"year\" : 2007\n",
    "}\n",
    "child3 = {\n",
    "  \"name\" : \"Linus\",\n",
    "  \"year\" : 2011\n",
    "}\n",
    "\n",
    "myfamily = {\n",
    "  \"child1\" : child1,\n",
    "  \"child2\" : child2,\n",
    "  \"child3\" : child3\n",
    "}"
   ]
  },
  {
   "cell_type": "code",
   "execution_count": null,
   "id": "70e77a35",
   "metadata": {},
   "outputs": [],
   "source": []
  }
 ],
 "metadata": {
  "kernelspec": {
   "display_name": "Python 3 (ipykernel)",
   "language": "python",
   "name": "python3"
  },
  "language_info": {
   "codemirror_mode": {
    "name": "ipython",
    "version": 3
   },
   "file_extension": ".py",
   "mimetype": "text/x-python",
   "name": "python",
   "nbconvert_exporter": "python",
   "pygments_lexer": "ipython3",
   "version": "3.10.9"
  }
 },
 "nbformat": 4,
 "nbformat_minor": 5
}
