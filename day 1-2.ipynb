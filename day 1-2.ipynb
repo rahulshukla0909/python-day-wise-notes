{
 "cells": [
  {
   "cell_type": "markdown",
   "id": "de78b2cc",
   "metadata": {},
   "source": [
    "python"
   ]
  },
  {
   "cell_type": "markdown",
   "id": "74870c74",
   "metadata": {},
   "source": [
    "syntex rule\n",
    "1indentation"
   ]
  },
  {
   "cell_type": "markdown",
   "id": "8ad3575c",
   "metadata": {},
   "source": [
    "Numbers and Math Functions\n",
    "arithmetic operators such as +, -, *, / ,built-in math functions,random module "
   ]
  },
  {
   "cell_type": "markdown",
   "id": "8f05708c",
   "metadata": {},
   "source": [
    "Variables\n",
    "Variables\n",
    "Variables are containers for storing data values.\n",
    "Python has no command for declaring a variable.\n",
    "A variable is created the moment you first assign a value to it.\n",
    "x = 5\n",
    "y = \"John\"\n",
    "print(x)\n",
    "print(y)\n",
    "Casting\n",
    "If you want to specify the data type of a variable, this can be done with casting.\n",
    "\n",
    "Example\n",
    "x = str(3)    # x will be '3'\n",
    "y = int(3)    # y will be 3\n",
    "z = float(3)  # z will be 3.0"
   ]
  },
  {
   "cell_type": "code",
   "execution_count": 3,
   "id": "98f74137",
   "metadata": {},
   "outputs": [
    {
     "name": "stdout",
     "output_type": "stream",
     "text": [
      "1\n",
      "78\n",
      "5.77\n",
      "7.25\n",
      "9\n"
     ]
    }
   ],
   "source": [
    "# Numeric Functions\n",
    "# min,max ,round,abs,pow etc\n",
    "a = [1,2,9,78,56,23]\n",
    "print(min(a))\n",
    "print(max(a))\n",
    "x = round(5.76543, 2)\n",
    "print(x)\n",
    "y = abs(-7.25)\n",
    "print(y)\n",
    "print(pow(3,2))"
   ]
  },
  {
   "cell_type": "code",
   "execution_count": 6,
   "id": "d06be2e6",
   "metadata": {},
   "outputs": [
    {
     "data": {
      "text/plain": [
       "7.3890461584"
      ]
     },
     "execution_count": 6,
     "metadata": {},
     "output_type": "execute_result"
    }
   ],
   "source": [
    "# Power and Logarthimic Functions\n",
    "2.71828**2"
   ]
  },
  {
   "cell_type": "code",
   "execution_count": 7,
   "id": "035154fc",
   "metadata": {},
   "outputs": [
    {
     "name": "stdout",
     "output_type": "stream",
     "text": [
      "8\n",
      "8\n"
     ]
    }
   ],
   "source": [
    "# using the ** operator\n",
    "x = 2\n",
    "y = x ** 3\n",
    "print(y)  # output: 8\n",
    "\n",
    "# using the pow() function\n",
    "x = 2\n",
    "y = pow(x, 3)\n",
    "print(y)  # output: 8"
   ]
  },
  {
   "cell_type": "code",
   "execution_count": 8,
   "id": "ac2fdf12",
   "metadata": {},
   "outputs": [
    {
     "name": "stdout",
     "output_type": "stream",
     "text": [
      "2.302585092994046\n",
      "4.0\n"
     ]
    }
   ],
   "source": [
    "import math\n",
    "\n",
    "# natural logarithm\n",
    "x = 10\n",
    "y = math.log(x)\n",
    "print(y)  # output: 2.302585092994046\n",
    "\n",
    "# logarithm base 2\n",
    "x = 16\n",
    "y = math.log(x, 2)\n",
    "print(y)  # output: 4.0"
   ]
  },
  {
   "cell_type": "code",
   "execution_count": 9,
   "id": "c514ae24",
   "metadata": {},
   "outputs": [
    {
     "name": "stdout",
     "output_type": "stream",
     "text": [
      "2.0\n"
     ]
    }
   ],
   "source": [
    "import math\n",
    "\n",
    "x = 100\n",
    "y = math.log10(x)\n",
    "print(y)  # output: 2.0"
   ]
  },
  {
   "cell_type": "markdown",
   "id": "fb7670ce",
   "metadata": {},
   "source": [
    "#STRING\n",
    "a string is a sequence of characters enclosed within single quotes (') or double quotes (\"\")\n",
    " a = \"Hello\"\n",
    "print(a)                                                                   "
   ]
  },
  {
   "cell_type": "code",
   "execution_count": null,
   "id": "f4d95063",
   "metadata": {},
   "outputs": [],
   "source": [
    "# List is a collection which is ordered and changeable. Allows duplicate members.\n",
    "# Tuple is a collection which is ordered and unchangeable. Allows duplicate members.\n",
    "# Set is a collection which is unordered, unchangeable*, and unindexed. No duplicate members.\n",
    "# Dictionary is a collection which is ordered** and changeable. No duplicate members."
   ]
  },
  {
   "cell_type": "markdown",
   "id": "d0f7893e",
   "metadata": {},
   "source": [
    "a list is a collection of items that are ordered and mutable Lists are used to store multiple items in a single variable.\n",
    "Lists are created using square brackets:\n",
    "thislist = [\"apple\", \"banana\", \"cherry\"]\n",
    "print(thislist)"
   ]
  },
  {
   "cell_type": "code",
   "execution_count": null,
   "id": "ccd541f2",
   "metadata": {},
   "outputs": [],
   "source": [
    "A tuple is a collection which is ordered and unchangeable.\n",
    "\n",
    "Tuples are written with round brackets."
   ]
  },
  {
   "cell_type": "code",
   "execution_count": null,
   "id": "dd711db6",
   "metadata": {},
   "outputs": [],
   "source": [
    "\n",
    "A set is a collection which is unordered, unchangeable*, and unindexed.\n",
    "thisset = {\"apple\", \"banana\", \"cherry\"}\n",
    "print(thisset)"
   ]
  },
  {
   "cell_type": "code",
   "execution_count": 11,
   "id": "f248c127",
   "metadata": {},
   "outputs": [
    {
     "name": "stdout",
     "output_type": "stream",
     "text": [
      "{1, 2, 'apple', 'cherry', 'banana'}\n"
     ]
    }
   ],
   "source": [
    "thisset = {\"apple\", \"banana\", \"cherry\",  1, 2}\n",
    "\n",
    "print(thisset)"
   ]
  },
  {
   "cell_type": "code",
   "execution_count": 12,
   "id": "ae2cc1e8",
   "metadata": {},
   "outputs": [],
   "source": [
    "set1 = {\"apple\", \"banana\", \"cherry\"}\n",
    "set2 = {1, 5, 7, 9, 3}\n",
    "set3 = {True, False, False}"
   ]
  },
  {
   "cell_type": "code",
   "execution_count": 13,
   "id": "2e6f7f6b",
   "metadata": {},
   "outputs": [
    {
     "name": "stdout",
     "output_type": "stream",
     "text": [
      "{'cherry', 'apple', 'banana'}\n"
     ]
    }
   ],
   "source": [
    "print(set1)"
   ]
  },
  {
   "cell_type": "code",
   "execution_count": 14,
   "id": "46ee71f7",
   "metadata": {},
   "outputs": [
    {
     "name": "stdout",
     "output_type": "stream",
     "text": [
      "{1, 3, 5, 7, 9}\n"
     ]
    }
   ],
   "source": [
    "print(set2)"
   ]
  },
  {
   "cell_type": "code",
   "execution_count": 15,
   "id": "9f50da31",
   "metadata": {},
   "outputs": [
    {
     "name": "stdout",
     "output_type": "stream",
     "text": [
      "{False, True}\n"
     ]
    }
   ],
   "source": [
    "print(set3)"
   ]
  },
  {
   "cell_type": "code",
   "execution_count": 16,
   "id": "349b984b",
   "metadata": {},
   "outputs": [
    {
     "name": "stdout",
     "output_type": "stream",
     "text": [
      "{'brand': 'Ford', 'model': 'Mustang', 'year': 1964}\n"
     ]
    }
   ],
   "source": [
    "# A dictionary is a collection which is ordered*, changeable and do not allow duplicates.\n",
    "thisdict = {\n",
    "  \"brand\": \"Ford\",\n",
    "  \"model\": \"Mustang\",\n",
    "  \"year\": 1964\n",
    "}\n",
    "print(thisdict)"
   ]
  },
  {
   "cell_type": "code",
   "execution_count": 18,
   "id": "79d01a14",
   "metadata": {},
   "outputs": [
    {
     "name": "stdout",
     "output_type": "stream",
     "text": [
      "{'brand': 'Ford', 'model': 'Mustang', 'year': 2025}\n"
     ]
    }
   ],
   "source": [
    "# Duplicate values will overwrite existing values:\n",
    "\n",
    "thisdict = {\n",
    "  \"brand\": \"Ford\",\n",
    "  \"model\": \"Mustang\",\n",
    "  \"year\": 1964,\n",
    "  \"year\": 2020,\"year\":2025\n",
    "}\n",
    "print(thisdict)"
   ]
  },
  {
   "cell_type": "code",
   "execution_count": 19,
   "id": "5c4f0740",
   "metadata": {},
   "outputs": [],
   "source": [
    "# Arithmetic Operators\n",
    "# Comparison (Relational) Operators\n",
    "# Assignment Operators\n",
    "# Logical Operators\n",
    "# Bitwise Operators\n",
    "# Membership Operators\n",
    "# Identity Operators"
   ]
  },
  {
   "cell_type": "code",
   "execution_count": null,
   "id": "1a6af794",
   "metadata": {},
   "outputs": [],
   "source": [
    "Operators are used to perform operations on variables and values.\n",
    "+\tAddition\tx + y\t\n",
    "-\tSubtraction\tx - y\t\n",
    "*\tMultiplication\tx * y\t\n",
    "/\tDivision\tx / y\t\n",
    "%\tModulus\tx % y\t\n",
    "**\tExponentiation\tx ** y\t\n",
    "//\tFloor division\tx // y"
   ]
  },
  {
   "cell_type": "code",
   "execution_count": null,
   "id": "860c5517",
   "metadata": {},
   "outputs": [],
   "source": [
    "=\tx = 5\tx = 5\t\n",
    "+=\tx += 3\tx = x + 3\t\n",
    "-=\tx -= 3\tx = x - 3\t\n",
    "*=\tx *= 3\tx = x * 3\t\n",
    "/=\tx /= 3\tx = x / 3\t\n",
    "%=\tx %= 3\tx = x % 3\t\n",
    "//=\tx //= 3\tx = x // 3\t\n",
    "**=\tx **= 3\tx = x ** 3\t\n",
    "&=\tx &= 3\tx = x & 3\t\n",
    "|=\tx |= 3\tx = x | 3\t\n",
    "^=\tx ^= 3\tx = x ^ 3\t\n",
    ">>=\tx >>= 3\tx = x >> 3\t\n",
    "<<=\tx <<= 3\tx = x << 3"
   ]
  },
  {
   "cell_type": "code",
   "execution_count": null,
   "id": "6261f798",
   "metadata": {},
   "outputs": [],
   "source": [
    "Operator\tName\tExample\tTry it\n",
    "==\tEqual\tx == y\t\n",
    "!=\tNot equal\tx != y\t\n",
    ">\tGreater than\tx > y\t\n",
    "<\tLess than\tx < y\t\n",
    ">=\tGreater than or equal to\tx >= y\t\n",
    "<=\tLess than or equal to\tx <= y"
   ]
  },
  {
   "cell_type": "code",
   "execution_count": null,
   "id": "c51b9df2",
   "metadata": {},
   "outputs": [],
   "source": [
    "Python Logical Operators\n",
    "Logical operators are used to combine conditional statements:\n",
    "\n",
    "Operator\tDescription\tExample\tTry it\n",
    "and \tReturns True if both statements are true\tx < 5 and  x < 10\t\n",
    "or\tReturns True if one of the statements is true\tx < 5 or x < 4\t\n",
    "not\tReverse the result, returns False if the result is true\tnot(x < 5 and x < 10)"
   ]
  },
  {
   "cell_type": "code",
   "execution_count": null,
   "id": "543742bf",
   "metadata": {},
   "outputs": [],
   "source": [
    "Python Identity Operators\n",
    "Identity operators are used to compare the objects, not if they are equal, but if they are actually the same object, with the same memory location:\n",
    "\n",
    "Operator\tDescription\tExample\tTry it\n",
    "is \tReturns True if both variables are the same object\tx is y\t\n",
    "is not\tReturns True if both variables are not the same object\tx is not y\t\n"
   ]
  },
  {
   "cell_type": "code",
   "execution_count": null,
   "id": "6697fcd3",
   "metadata": {},
   "outputs": [],
   "source": [
    "Python Membership Operators\n",
    "Membership operators are used to test if a sequence is presented in an object:\n",
    "\n",
    "Operator\tDescription\tExample\tTry it\n",
    "in \tReturns True if a sequence with the specified value is present in the object\tx in y\t\n",
    "not in\tReturns True if a sequence with the specified value is not present in the object\tx not in y\t\n"
   ]
  },
  {
   "cell_type": "code",
   "execution_count": null,
   "id": "1825b0e9",
   "metadata": {},
   "outputs": [],
   "source": [
    "Python Bitwise Operators\n",
    "Bitwise operators are used to compare (binary) numbers:\n",
    "\n",
    "Operator\tName\tDescription\tExample\tTry it\n",
    "& \tAND\tSets each bit to 1 if both bits are 1\tx & y\t\n",
    "|\tOR\tSets each bit to 1 if one of two bits is 1\tx | y\t\n",
    "^\tXOR\tSets each bit to 1 if only one of two bits is 1\tx ^ y\t\n",
    "~\tNOT\tInverts all the bits\t~x\t\n",
    "<<\tZero fill left shift\tShift left by pushing zeros in from the right and let the leftmost bits fall off\tx << 2\t\n",
    ">>\tSigned right shift\tShift right by pushing copies of the leftmost bit in from the left, and let the rightmost bits fall off\tx >> 2"
   ]
  }
 ],
 "metadata": {
  "kernelspec": {
   "display_name": "Python 3 (ipykernel)",
   "language": "python",
   "name": "python3"
  },
  "language_info": {
   "codemirror_mode": {
    "name": "ipython",
    "version": 3
   },
   "file_extension": ".py",
   "mimetype": "text/x-python",
   "name": "python",
   "nbconvert_exporter": "python",
   "pygments_lexer": "ipython3",
   "version": "3.10.9"
  }
 },
 "nbformat": 4,
 "nbformat_minor": 5
}
